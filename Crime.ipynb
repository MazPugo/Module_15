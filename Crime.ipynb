{
 "cells": [
  {
   "cell_type": "code",
   "execution_count": 280,
   "id": "d71f4769",
   "metadata": {},
   "outputs": [],
   "source": [
    "import pandas as pd\n",
    "import numpy as np\n",
    "import matplotlib.pyplot as plt\n",
    "import csv"
   ]
  },
  {
   "cell_type": "code",
   "execution_count": 281,
   "id": "996e6c6c",
   "metadata": {},
   "outputs": [],
   "source": [
    "#Download the database of fatal US police interventions , and then load it into the DataFrame\n",
    "df = pd.read_csv(r\"c:\\Users\\litch\\HTML\\Module15\\fatal_police_shootings_data.csv\")"
   ]
  },
  {
   "cell_type": "code",
   "execution_count": 282,
   "id": "a40163cd",
   "metadata": {},
   "outputs": [
    {
     "data": {
      "text/html": [
       "<div>\n",
       "<style scoped>\n",
       "    .dataframe tbody tr th:only-of-type {\n",
       "        vertical-align: middle;\n",
       "    }\n",
       "\n",
       "    .dataframe tbody tr th {\n",
       "        vertical-align: top;\n",
       "    }\n",
       "\n",
       "    .dataframe thead th {\n",
       "        text-align: right;\n",
       "    }\n",
       "</style>\n",
       "<table border=\"1\" class=\"dataframe\">\n",
       "  <thead>\n",
       "    <tr style=\"text-align: right;\">\n",
       "      <th></th>\n",
       "      <th>id</th>\n",
       "      <th>name</th>\n",
       "      <th>date</th>\n",
       "      <th>manner_of_death</th>\n",
       "      <th>armed</th>\n",
       "      <th>age</th>\n",
       "      <th>gender</th>\n",
       "      <th>race</th>\n",
       "      <th>city</th>\n",
       "      <th>state</th>\n",
       "      <th>signs_of_mental_illness</th>\n",
       "      <th>threat_level</th>\n",
       "      <th>flee</th>\n",
       "      <th>body_camera</th>\n",
       "    </tr>\n",
       "  </thead>\n",
       "  <tbody>\n",
       "    <tr>\n",
       "      <th>0</th>\n",
       "      <td>3</td>\n",
       "      <td>Tim Elliot</td>\n",
       "      <td>02/01/2015</td>\n",
       "      <td>shot</td>\n",
       "      <td>gun</td>\n",
       "      <td>53.0</td>\n",
       "      <td>M</td>\n",
       "      <td>A</td>\n",
       "      <td>Shelton</td>\n",
       "      <td>WA</td>\n",
       "      <td>True</td>\n",
       "      <td>attack</td>\n",
       "      <td>Not fleeing</td>\n",
       "      <td>False</td>\n",
       "    </tr>\n",
       "    <tr>\n",
       "      <th>1</th>\n",
       "      <td>4</td>\n",
       "      <td>Lewis Lee Lembke</td>\n",
       "      <td>02/01/2015</td>\n",
       "      <td>shot</td>\n",
       "      <td>gun</td>\n",
       "      <td>47.0</td>\n",
       "      <td>M</td>\n",
       "      <td>W</td>\n",
       "      <td>Aloha</td>\n",
       "      <td>OR</td>\n",
       "      <td>False</td>\n",
       "      <td>attack</td>\n",
       "      <td>Not fleeing</td>\n",
       "      <td>False</td>\n",
       "    </tr>\n",
       "    <tr>\n",
       "      <th>2</th>\n",
       "      <td>5</td>\n",
       "      <td>John Paul Quintero</td>\n",
       "      <td>03/01/2015</td>\n",
       "      <td>shot and Tasered</td>\n",
       "      <td>unarmed</td>\n",
       "      <td>23.0</td>\n",
       "      <td>M</td>\n",
       "      <td>H</td>\n",
       "      <td>Wichita</td>\n",
       "      <td>KS</td>\n",
       "      <td>False</td>\n",
       "      <td>other</td>\n",
       "      <td>Not fleeing</td>\n",
       "      <td>False</td>\n",
       "    </tr>\n",
       "    <tr>\n",
       "      <th>3</th>\n",
       "      <td>8</td>\n",
       "      <td>Matthew Hoffman</td>\n",
       "      <td>04/01/2015</td>\n",
       "      <td>shot</td>\n",
       "      <td>toy weapon</td>\n",
       "      <td>32.0</td>\n",
       "      <td>M</td>\n",
       "      <td>W</td>\n",
       "      <td>San Francisco</td>\n",
       "      <td>CA</td>\n",
       "      <td>True</td>\n",
       "      <td>attack</td>\n",
       "      <td>Not fleeing</td>\n",
       "      <td>False</td>\n",
       "    </tr>\n",
       "    <tr>\n",
       "      <th>4</th>\n",
       "      <td>9</td>\n",
       "      <td>Michael Rodriguez</td>\n",
       "      <td>04/01/2015</td>\n",
       "      <td>shot</td>\n",
       "      <td>nail gun</td>\n",
       "      <td>39.0</td>\n",
       "      <td>M</td>\n",
       "      <td>H</td>\n",
       "      <td>Evans</td>\n",
       "      <td>CO</td>\n",
       "      <td>False</td>\n",
       "      <td>attack</td>\n",
       "      <td>Not fleeing</td>\n",
       "      <td>False</td>\n",
       "    </tr>\n",
       "  </tbody>\n",
       "</table>\n",
       "</div>"
      ],
      "text/plain": [
       "   id                name        date   manner_of_death       armed   age  \\\n",
       "0   3          Tim Elliot  02/01/2015              shot         gun  53.0   \n",
       "1   4    Lewis Lee Lembke  02/01/2015              shot         gun  47.0   \n",
       "2   5  John Paul Quintero  03/01/2015  shot and Tasered     unarmed  23.0   \n",
       "3   8     Matthew Hoffman  04/01/2015              shot  toy weapon  32.0   \n",
       "4   9   Michael Rodriguez  04/01/2015              shot    nail gun  39.0   \n",
       "\n",
       "  gender race           city state  signs_of_mental_illness threat_level  \\\n",
       "0      M    A        Shelton    WA                     True       attack   \n",
       "1      M    W          Aloha    OR                    False       attack   \n",
       "2      M    H        Wichita    KS                    False        other   \n",
       "3      M    W  San Francisco    CA                     True       attack   \n",
       "4      M    H          Evans    CO                    False       attack   \n",
       "\n",
       "          flee  body_camera  \n",
       "0  Not fleeing        False  \n",
       "1  Not fleeing        False  \n",
       "2  Not fleeing        False  \n",
       "3  Not fleeing        False  \n",
       "4  Not fleeing        False  "
      ]
     },
     "execution_count": 282,
     "metadata": {},
     "output_type": "execute_result"
    }
   ],
   "source": [
    "df.head()"
   ]
  },
  {
   "cell_type": "code",
   "execution_count": 283,
   "id": "d11f27a9",
   "metadata": {},
   "outputs": [
    {
     "data": {
      "text/html": [
       "<div>\n",
       "<style scoped>\n",
       "    .dataframe tbody tr th:only-of-type {\n",
       "        vertical-align: middle;\n",
       "    }\n",
       "\n",
       "    .dataframe tbody tr th {\n",
       "        vertical-align: top;\n",
       "    }\n",
       "\n",
       "    .dataframe thead th {\n",
       "        text-align: right;\n",
       "    }\n",
       "</style>\n",
       "<table border=\"1\" class=\"dataframe\">\n",
       "  <thead>\n",
       "    <tr style=\"text-align: right;\">\n",
       "      <th>race</th>\n",
       "      <th>A</th>\n",
       "      <th>B</th>\n",
       "      <th>H</th>\n",
       "      <th>N</th>\n",
       "      <th>O</th>\n",
       "      <th>W</th>\n",
       "    </tr>\n",
       "    <tr>\n",
       "      <th>signs_of_mental_illness</th>\n",
       "      <th></th>\n",
       "      <th></th>\n",
       "      <th></th>\n",
       "      <th></th>\n",
       "      <th></th>\n",
       "      <th></th>\n",
       "    </tr>\n",
       "  </thead>\n",
       "  <tbody>\n",
       "    <tr>\n",
       "      <th>False</th>\n",
       "      <td>Hung TrieuCarl LaoLue VangThong Kien MaTon Ngu...</td>\n",
       "      <td>Leslie Sapp IIIRon SneedOmarr Julian Maximilli...</td>\n",
       "      <td>John Paul QuinteroMichael RodriguezKenneth Arn...</td>\n",
       "      <td>Nicolas Leland TewaJustin FowlerJoe Charboneau...</td>\n",
       "      <td>Zaki ShinwaryNadir SoofiBruce ZalonkaFeras Mor...</td>\n",
       "      <td>Lewis Lee LembkeKenneth Joe BrownBrock Nichols...</td>\n",
       "    </tr>\n",
       "    <tr>\n",
       "      <th>True</th>\n",
       "      <td>Tim ElliotMatautu NuuJoseph Jeremy WeberThongs...</td>\n",
       "      <td>Hashim Hanif Ibn Abdul-RasheedMario JordanDari...</td>\n",
       "      <td>Jose CejaDavid GarciaAntonio Zambrano-MontesDa...</td>\n",
       "      <td>Daniel CovarrubiasPaul CastawayHerman BeanSher...</td>\n",
       "      <td>Fridoon Zalbeg NehadMohammad Youssef Abdulazee...</td>\n",
       "      <td>Matthew HoffmanTommy SmithRichard McClendonQui...</td>\n",
       "    </tr>\n",
       "  </tbody>\n",
       "</table>\n",
       "</div>"
      ],
      "text/plain": [
       "race                                                                     A  \\\n",
       "signs_of_mental_illness                                                      \n",
       "False                    Hung TrieuCarl LaoLue VangThong Kien MaTon Ngu...   \n",
       "True                     Tim ElliotMatautu NuuJoseph Jeremy WeberThongs...   \n",
       "\n",
       "race                                                                     B  \\\n",
       "signs_of_mental_illness                                                      \n",
       "False                    Leslie Sapp IIIRon SneedOmarr Julian Maximilli...   \n",
       "True                     Hashim Hanif Ibn Abdul-RasheedMario JordanDari...   \n",
       "\n",
       "race                                                                     H  \\\n",
       "signs_of_mental_illness                                                      \n",
       "False                    John Paul QuinteroMichael RodriguezKenneth Arn...   \n",
       "True                     Jose CejaDavid GarciaAntonio Zambrano-MontesDa...   \n",
       "\n",
       "race                                                                     N  \\\n",
       "signs_of_mental_illness                                                      \n",
       "False                    Nicolas Leland TewaJustin FowlerJoe Charboneau...   \n",
       "True                     Daniel CovarrubiasPaul CastawayHerman BeanSher...   \n",
       "\n",
       "race                                                                     O  \\\n",
       "signs_of_mental_illness                                                      \n",
       "False                    Zaki ShinwaryNadir SoofiBruce ZalonkaFeras Mor...   \n",
       "True                     Fridoon Zalbeg NehadMohammad Youssef Abdulazee...   \n",
       "\n",
       "race                                                                     W  \n",
       "signs_of_mental_illness                                                     \n",
       "False                    Lewis Lee LembkeKenneth Joe BrownBrock Nichols...  \n",
       "True                     Matthew HoffmanTommy SmithRichard McClendonQui...  "
      ]
     },
     "execution_count": 283,
     "metadata": {},
     "output_type": "execute_result"
    }
   ],
   "source": [
    "import numpy as np\n",
    "#Convert the table to show both the number of victims of intervention by race\n",
    "df.pivot_table(values='name',index='signs_of_mental_illness',columns='race',aggfunc=np.sum)"
   ]
  },
  {
   "cell_type": "code",
   "execution_count": 284,
   "id": "25011522",
   "metadata": {},
   "outputs": [],
   "source": [
    "#df1= df.pivot_table(values='name',index='signs_of_mental_illness',columns='race',aggfunc=np.sum)\n",
    "#df1\n",
    "#Use Map, Applymapor , Applyto add to this statement a column indicating what percentage of victims of the intervention showed signs of mental illness for each of the races\n",
    "\n",
    "victim_dict = dict(zip(df['race'].unique(),['25.8','28.8','17.4','14.2','22.9','21.7','17.9']))"
   ]
  },
  {
   "cell_type": "code",
   "execution_count": 285,
   "id": "5b275fae",
   "metadata": {},
   "outputs": [
    {
     "data": {
      "text/plain": [
       "{'A': '25.8',\n",
       " 'W': '28.8',\n",
       " 'H': '17.4',\n",
       " 'B': '14.2',\n",
       " 'O': '22.9',\n",
       " nan: '21.7',\n",
       " 'N': '17.9'}"
      ]
     },
     "execution_count": 285,
     "metadata": {},
     "output_type": "execute_result"
    }
   ],
   "source": [
    "victim_dict"
   ]
  },
  {
   "cell_type": "code",
   "execution_count": 286,
   "id": "6c9043e2",
   "metadata": {},
   "outputs": [
    {
     "data": {
      "text/plain": [
       "0       25.8\n",
       "1       28.8\n",
       "2       17.4\n",
       "3       28.8\n",
       "4       17.4\n",
       "        ... \n",
       "5411    28.8\n",
       "5412    21.7\n",
       "5413    28.8\n",
       "5414    21.7\n",
       "5415    21.7\n",
       "Name: percentage_of_victims, Length: 5416, dtype: object"
      ]
     },
     "execution_count": 286,
     "metadata": {},
     "output_type": "execute_result"
    }
   ],
   "source": [
    "df['percentage_of_victims'] = df['race'].map(victim_dict)\n",
    "df['percentage_of_victims']"
   ]
  },
  {
   "cell_type": "code",
   "execution_count": 287,
   "id": "3f4f568f",
   "metadata": {},
   "outputs": [
    {
     "name": "stdout",
     "output_type": "stream",
     "text": [
      "race_with_highest_mental_illness: W\n"
     ]
    }
   ],
   "source": [
    "#Answer which one has the highest percentage of mental illness during an intervention\n",
    "fin_max = max(victim_dict, key=victim_dict.get)\n",
    "print(\"race_with_highest_mental_illness:\",fin_max)"
   ]
  },
  {
   "cell_type": "code",
   "execution_count": 288,
   "id": "a8042927",
   "metadata": {},
   "outputs": [],
   "source": [
    "#Add a column for the day of the week on which the intervention took place\n",
    "df['date'] = pd.to_datetime(df['date'])\n",
    "\n",
    "df['day_of_week'] = df['date'].dt.day_name()"
   ]
  },
  {
   "cell_type": "code",
   "execution_count": 289,
   "id": "e5e6417c",
   "metadata": {},
   "outputs": [
    {
     "data": {
      "text/plain": [
       "0          Sunday\n",
       "1          Sunday\n",
       "2          Sunday\n",
       "3       Wednesday\n",
       "4       Wednesday\n",
       "          ...    \n",
       "5411     Saturday\n",
       "5412     Saturday\n",
       "5413       Monday\n",
       "5414      Tuesday\n",
       "5415      Tuesday\n",
       "Name: day_of_week, Length: 5416, dtype: object"
      ]
     },
     "execution_count": 289,
     "metadata": {},
     "output_type": "execute_result"
    }
   ],
   "source": [
    "df['day_of_week']"
   ]
  },
  {
   "cell_type": "code",
   "execution_count": 290,
   "id": "d5781892",
   "metadata": {},
   "outputs": [],
   "source": [
    "#Count the interventions by the appropriate day of the week\n",
    "inter_Monday=df[(df['day_of_week'] == 'Tuesday') ].value_counts().sum()"
   ]
  },
  {
   "cell_type": "code",
   "execution_count": 291,
   "id": "8492f327",
   "metadata": {},
   "outputs": [
    {
     "data": {
      "text/plain": [
       "659"
      ]
     },
     "execution_count": 291,
     "metadata": {},
     "output_type": "execute_result"
    }
   ],
   "source": [
    "inter_Monday"
   ]
  },
  {
   "cell_type": "code",
   "execution_count": 292,
   "id": "2a59f3f8",
   "metadata": {},
   "outputs": [],
   "source": [
    "day_of_week = [\"Monday\", \"Tuesday\", \"Wednesday\",\"Thursday\", \"Friday\", \"Saturday\", \"Sunday\"]\n",
    "interventions = np.arange(7)"
   ]
  },
  {
   "cell_type": "code",
   "execution_count": 293,
   "id": "c91901eb",
   "metadata": {},
   "outputs": [
    {
     "data": {
      "text/plain": [
       "array([0, 1, 2, 3, 4, 5, 6])"
      ]
     },
     "execution_count": 293,
     "metadata": {},
     "output_type": "execute_result"
    }
   ],
   "source": [
    "interventions"
   ]
  },
  {
   "cell_type": "code",
   "execution_count": 294,
   "id": "b340360b",
   "metadata": {},
   "outputs": [
    {
     "name": "stdout",
     "output_type": "stream",
     "text": [
      "617\n",
      "659\n",
      "653\n",
      "655\n",
      "596\n",
      "613\n",
      "606\n"
     ]
    }
   ],
   "source": [
    "for i in range(7):\n",
    "    interventions[i]= df[(df['day_of_week'] == day_of_week[i]) ].value_counts().sum()\n",
    "    print(interventions[i])"
   ]
  },
  {
   "cell_type": "code",
   "execution_count": 295,
   "id": "e84060f3",
   "metadata": {},
   "outputs": [
    {
     "data": {
      "text/plain": [
       "array([617, 659, 653, 655, 596, 613, 606])"
      ]
     },
     "execution_count": 295,
     "metadata": {},
     "output_type": "execute_result"
    }
   ],
   "source": [
    "interventions"
   ]
  },
  {
   "cell_type": "code",
   "execution_count": 296,
   "id": "19a90b67",
   "metadata": {},
   "outputs": [],
   "source": [
    "res = {day_of_week[i]: interventions[i] for i in range(len(day_of_week))}"
   ]
  },
  {
   "cell_type": "code",
   "execution_count": 297,
   "id": "82e84328",
   "metadata": {},
   "outputs": [
    {
     "data": {
      "text/plain": [
       "{'Monday': 617,\n",
       " 'Tuesday': 659,\n",
       " 'Wednesday': 653,\n",
       " 'Thursday': 655,\n",
       " 'Friday': 596,\n",
       " 'Saturday': 613,\n",
       " 'Sunday': 606}"
      ]
     },
     "execution_count": 297,
     "metadata": {},
     "output_type": "execute_result"
    }
   ],
   "source": [
    "res"
   ]
  },
  {
   "cell_type": "code",
   "execution_count": 298,
   "id": "d1281b0a",
   "metadata": {},
   "outputs": [
    {
     "name": "stdout",
     "output_type": "stream",
     "text": [
      "Maximum value: Tuesday\n"
     ]
    }
   ],
   "source": [
    "fin_max = max(res, key=res.get)\n",
    "print(\"Maximum value:\",fin_max)"
   ]
  },
  {
   "cell_type": "code",
   "execution_count": 299,
   "id": "55f1e112",
   "metadata": {},
   "outputs": [
    {
     "data": {
      "image/png": "[encoded data removed]",
      "text/plain": [
       "<Figure size 1296x360 with 1 Axes>"
      ]
     },
     "metadata": {
      "needs_background": "light"
     },
     "output_type": "display_data"
    }
   ],
   "source": [
    "#create a column chart so that the days of the week are lined up Monday through Sunday\n",
    "import matplotlib.pyplot as plt\n",
    "f, ax = plt.subplots(figsize=(18,5)) \n",
    "plt.bar(range(len(res)), list(res.values()), align='center')\n",
    "plt.xticks(range(len(res)), list(res.keys()))\n",
    "plt.title(\"Number of interventions per day\")\n",
    "plt.xlabel(\"Day of week\")\n",
    "plt.ylabel(\"Number of interventions\")\n",
    "plt.show()"
   ]
  },
  {
   "cell_type": "code",
   "execution_count": 300,
   "id": "410b7663",
   "metadata": {},
   "outputs": [],
   "source": [
    "#df3 = pd.read_csv(r\"c:\\Users\\litch\\HTML\\Module15\\US_states_code.csv\")\n",
    "df3 = pd.read_csv(r\"c:\\Users\\litch\\HTML\\Module15\\US_states_code.csv\")\n",
    "#df3.head()\n",
    "#df3\n",
    "US_State_Code = pd.array(df3['US'])  "
   ]
  },
  {
   "cell_type": "code",
   "execution_count": 301,
   "id": "6710bd0b",
   "metadata": {},
   "outputs": [],
   "source": [
    "#df2 =pd.read_csv(r\"c:\\Users\\litch\\HTML\\Module15\\fatal_police_shootings_data.csv\")\n",
    "##filtered_df2 = df2[(df2['state']=='WA') & (df2['signs_of_mental_illness'])] \n",
    "#filtered_df2 = df2[(df2['state']=='WA')].count()\n",
    "#total_WA=filtered_df2['signs_of_mental_illness']"
   ]
  },
  {
   "cell_type": "code",
   "execution_count": 302,
   "id": "a88a4a56",
   "metadata": {},
   "outputs": [],
   "source": [
    "#filtered_df3 = df2[(df2['state']=='WA') & (df2['signs_of_mental_illness'])].count()\n",
    "#true_WA = filtered_df3['signs_of_mental_illness']"
   ]
  },
  {
   "cell_type": "code",
   "execution_count": 303,
   "id": "4833f396",
   "metadata": {},
   "outputs": [],
   "source": [
    "#number_of_incidents_per_thousand=round((true_WA/total_WA)*1000)"
   ]
  },
  {
   "cell_type": "code",
   "execution_count": 304,
   "id": "b10c2266",
   "metadata": {},
   "outputs": [],
   "source": [
    "#number_of_incidents_per_thousand"
   ]
  },
  {
   "cell_type": "code",
   "execution_count": 305,
   "id": "e18a4bed",
   "metadata": {},
   "outputs": [],
   "source": [
    "number_of_incidents_per_thousand_per_state = []"
   ]
  },
  {
   "cell_type": "code",
   "execution_count": 306,
   "id": "5ccb6db1",
   "metadata": {},
   "outputs": [],
   "source": [
    "#Combine these databases so that you can count the number of incidents in the Lethal Intervention Database per 1,000 inhabitants in each state\n",
    "def my_function(x=[]): \n",
    "    df2 =pd.read_csv(r\"c:\\Users\\litch\\HTML\\Module15\\fatal_police_shootings_data.csv\")  \n",
    "    for i in range(len(x)):\n",
    "            #print(x[i])\n",
    "            filtered_df2 = df2[(df2['state']==x[i])].count()\n",
    "            total_states=filtered_df2['signs_of_mental_illness']\n",
    "            filtered_df3 = df2[(df2['state']==x[i]) & (df2['signs_of_mental_illness'])].count()\n",
    "            true_states = filtered_df3['signs_of_mental_illness'] \n",
    "            number_of_incidents_per_thousand=round((true_states/total_states)*1000)\n",
    "            number_of_incidents_per_thousand_per_state.append(number_of_incidents_per_thousand) "
   ]
  },
  {
   "cell_type": "code",
   "execution_count": 307,
   "id": "a5767f2e",
   "metadata": {},
   "outputs": [],
   "source": [
    "my_function(US_State_Code)"
   ]
  },
  {
   "cell_type": "code",
   "execution_count": 308,
   "id": "0b9d2f53",
   "metadata": {},
   "outputs": [
    {
     "data": {
      "text/plain": [
       "[250,\n",
       " 154,\n",
       " 185,\n",
       " 157,\n",
       " 228,\n",
       " 128,\n",
       " 238,\n",
       " 308,\n",
       " 154,\n",
       " 269,\n",
       " 209,\n",
       " 200,\n",
       " 143,\n",
       " 173,\n",
       " 253,\n",
       " 219,\n",
       " 240,\n",
       " 74,\n",
       " 211,\n",
       " 91,\n",
       " 278,\n",
       " 314,\n",
       " 321,\n",
       " 344,\n",
       " 138,\n",
       " 149,\n",
       " 129,\n",
       " 208,\n",
       " 281,\n",
       " 462,\n",
       " 206,\n",
       " 179,\n",
       " 366,\n",
       " 212,\n",
       " 182,\n",
       " 245,\n",
       " 220,\n",
       " 307,\n",
       " 250,\n",
       " 0,\n",
       " 193,\n",
       " 353,\n",
       " 245,\n",
       " 185,\n",
       " 267,\n",
       " 444,\n",
       " 274,\n",
       " 342,\n",
       " 222,\n",
       " 264,\n",
       " 357]"
      ]
     },
     "execution_count": 308,
     "metadata": {},
     "output_type": "execute_result"
    }
   ],
   "source": [
    "number_of_incidents_per_thousand_per_state"
   ]
  },
  {
   "cell_type": "code",
   "execution_count": 309,
   "id": "bf0d9d77",
   "metadata": {},
   "outputs": [
    {
     "data": {
      "text/plain": [
       "51"
      ]
     },
     "execution_count": 309,
     "metadata": {},
     "output_type": "execute_result"
    }
   ],
   "source": [
    "len(US_State_Code)"
   ]
  },
  {
   "cell_type": "code",
   "execution_count": 310,
   "id": "ed8e8fc9",
   "metadata": {},
   "outputs": [],
   "source": [
    "dict_number_of_incidents_per_thousand_per_state = {US_State_Code[i]: number_of_incidents_per_thousand_per_state[i] for i in range(len(US_State_Code))}"
   ]
  },
  {
   "cell_type": "code",
   "execution_count": 311,
   "id": "0fdb4d57",
   "metadata": {},
   "outputs": [
    {
     "data": {
      "text/plain": [
       "{'AL': 250,\n",
       " 'AK': 154,\n",
       " 'AZ': 185,\n",
       " 'AR': 157,\n",
       " 'CA': 228,\n",
       " 'CO': 128,\n",
       " 'CT': 238,\n",
       " 'DE': 308,\n",
       " 'DC': 154,\n",
       " 'FL': 269,\n",
       " 'GA': 209,\n",
       " 'HI': 200,\n",
       " 'ID': 143,\n",
       " 'IL': 173,\n",
       " 'IN': 253,\n",
       " 'IA': 219,\n",
       " 'KS': 240,\n",
       " 'KY': 74,\n",
       " 'LA': 211,\n",
       " 'ME': 91,\n",
       " 'MD': 278,\n",
       " 'MA': 314,\n",
       " 'MI': 321,\n",
       " 'MN': 344,\n",
       " 'MS': 138,\n",
       " 'MO': 149,\n",
       " 'MT': 129,\n",
       " 'NE': 208,\n",
       " 'NV': 281,\n",
       " 'NH': 462,\n",
       " 'NJ': 206,\n",
       " 'NM': 179,\n",
       " 'NY': 366,\n",
       " 'NC': 212,\n",
       " 'ND': 182,\n",
       " 'OH': 245,\n",
       " 'OK': 220,\n",
       " 'OR': 307,\n",
       " 'PA': 250,\n",
       " 'RI': 0,\n",
       " 'SC': 193,\n",
       " 'SD': 353,\n",
       " 'TN': 245,\n",
       " 'TX': 185,\n",
       " 'UT': 267,\n",
       " 'VT': 444,\n",
       " 'VA': 274,\n",
       " 'WA': 342,\n",
       " 'WV': 222,\n",
       " 'WI': 264,\n",
       " 'WY': 357}"
      ]
     },
     "execution_count": 311,
     "metadata": {},
     "output_type": "execute_result"
    }
   ],
   "source": [
    "dict_number_of_incidents_per_thousand_per_state"
   ]
  }
 ],
 "metadata": {
  "kernelspec": {
   "display_name": "Python 3 (ipykernel)",
   "language": "python",
   "name": "python3"
  },
  "language_info": {
   "codemirror_mode": {
    "name": "ipython",
    "version": 3
   },
   "file_extension": ".py",
   "mimetype": "text/x-python",
   "name": "python",
   "nbconvert_exporter": "python",
   "pygments_lexer": "ipython3",
   "version": "3.8.8"
  }
 },
 "nbformat": 4,
 "nbformat_minor": 5
}
